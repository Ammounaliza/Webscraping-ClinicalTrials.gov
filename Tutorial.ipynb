{
 "cells": [
  {
   "cell_type": "code",
   "execution_count": 1,
   "metadata": {},
   "outputs": [],
   "source": [
    "import pandas as pd\n",
    "from scrapeThisData import ScrapeThatData"
   ]
  },
  {
   "cell_type": "code",
   "execution_count": 2,
   "metadata": {},
   "outputs": [
    {
     "name": "stdout",
     "output_type": "stream",
     "text": [
      "Getting data from page 1\n",
      "WARNING: Study number NCT00003682 doesn't have eligibility criteria or HTML tag format is not a list\n",
      "WARNING: Study number NCT00005075 doesn't have eligibility criteria or HTML tag format is not a list\n",
      "WARNING: Number of Participants in Study number NCT00005075 is unavailable\n"
     ]
    }
   ],
   "source": [
    "cl = ScrapeThatData(chrome_webdriver_path=':/home/zohrarezgui/Zohra/WebDrivers', time_threshold = 15)\n",
    "condition ='prostate cancer'\n",
    "attributes = ['status',  'nct number' ]\n",
    "status = ['terminated']\n",
    "results = cl(condition, attributes, status, 100)"
   ]
  },
  {
   "cell_type": "code",
   "execution_count": 5,
   "metadata": {},
   "outputs": [],
   "source": [
    "df = pd.DataFrame(results[1:], columns=results[0] )"
   ]
  },
  {
   "cell_type": "code",
   "execution_count": 7,
   "metadata": {},
   "outputs": [
    {
     "data": {
      "text/html": [
       "<div>\n",
       "<style scoped>\n",
       "    .dataframe tbody tr th:only-of-type {\n",
       "        vertical-align: middle;\n",
       "    }\n",
       "\n",
       "    .dataframe tbody tr th {\n",
       "        vertical-align: top;\n",
       "    }\n",
       "\n",
       "    .dataframe thead th {\n",
       "        text-align: right;\n",
       "    }\n",
       "</style>\n",
       "<table border=\"1\" class=\"dataframe\">\n",
       "  <thead>\n",
       "    <tr style=\"text-align: right;\">\n",
       "      <th></th>\n",
       "      <th>status</th>\n",
       "      <th>nct number</th>\n",
       "      <th>inclusion</th>\n",
       "      <th>exclusion</th>\n",
       "      <th>enrollment</th>\n",
       "    </tr>\n",
       "  </thead>\n",
       "  <tbody>\n",
       "    <tr>\n",
       "      <th>0</th>\n",
       "      <td>Terminated</td>\n",
       "      <td>NCT03227744</td>\n",
       "      <td>Assessment of MAX-PC Scores [ Time Frame: Chan...</td>\n",
       "      <td>Assessment of anxiety scores as a function of ...</td>\n",
       "      <td>26</td>\n",
       "    </tr>\n",
       "    <tr>\n",
       "      <th>1</th>\n",
       "      <td>Terminated</td>\n",
       "      <td>NCT02478125</td>\n",
       "      <td>Mobilization of DTCs from bone marrow [ Time F...</td>\n",
       "      <td>Kinetics of disseminated tumor cell mobilizati...</td>\n",
       "      <td>3</td>\n",
       "    </tr>\n",
       "    <tr>\n",
       "      <th>2</th>\n",
       "      <td>Terminated</td>\n",
       "      <td>NCT01845792</td>\n",
       "      <td>Jevtana Zytiga</td>\n",
       "      <td>Progression-Free Survival [ Time Frame: 3 mont...</td>\n",
       "      <td>7</td>\n",
       "    </tr>\n",
       "    <tr>\n",
       "      <th>3</th>\n",
       "      <td>Terminated</td>\n",
       "      <td>NCT01705652</td>\n",
       "      <td>PSA (Prostate Specific Antigen) [ Time Frame: ...</td>\n",
       "      <td>Have a histologic diagnosis of prostate cancer...</td>\n",
       "      <td>21</td>\n",
       "    </tr>\n",
       "    <tr>\n",
       "      <th>4</th>\n",
       "      <td>Terminated</td>\n",
       "      <td>NCT01677845</td>\n",
       "      <td>the maximum tolerated dose of HRT [ Time Frame...</td>\n",
       "      <td>History/physical examination with digital rect...</td>\n",
       "      <td>9</td>\n",
       "    </tr>\n",
       "  </tbody>\n",
       "</table>\n",
       "</div>"
      ],
      "text/plain": [
       "       status   nct number                                          inclusion  \\\n",
       "0  Terminated  NCT03227744  Assessment of MAX-PC Scores [ Time Frame: Chan...   \n",
       "1  Terminated  NCT02478125  Mobilization of DTCs from bone marrow [ Time F...   \n",
       "2  Terminated  NCT01845792                                     Jevtana Zytiga   \n",
       "3  Terminated  NCT01705652  PSA (Prostate Specific Antigen) [ Time Frame: ...   \n",
       "4  Terminated  NCT01677845  the maximum tolerated dose of HRT [ Time Frame...   \n",
       "\n",
       "                                           exclusion enrollment  \n",
       "0  Assessment of anxiety scores as a function of ...         26  \n",
       "1  Kinetics of disseminated tumor cell mobilizati...          3  \n",
       "2  Progression-Free Survival [ Time Frame: 3 mont...          7  \n",
       "3  Have a histologic diagnosis of prostate cancer...         21  \n",
       "4  History/physical examination with digital rect...          9  "
      ]
     },
     "execution_count": 7,
     "metadata": {},
     "output_type": "execute_result"
    }
   ],
   "source": [
    "df.head()"
   ]
  }
 ],
 "metadata": {
  "kernelspec": {
   "display_name": "Python 3",
   "language": "python",
   "name": "python3"
  },
  "language_info": {
   "codemirror_mode": {
    "name": "ipython",
    "version": 3
   },
   "file_extension": ".py",
   "mimetype": "text/x-python",
   "name": "python",
   "nbconvert_exporter": "python",
   "pygments_lexer": "ipython3",
   "version": "3.7.3"
  }
 },
 "nbformat": 4,
 "nbformat_minor": 2
}
