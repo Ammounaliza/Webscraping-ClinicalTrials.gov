{
 "cells": [
  {
   "cell_type": "code",
   "execution_count": 7,
   "metadata": {},
   "outputs": [],
   "source": [
    "import pandas as pd\n",
    "from scrapeThisData import ScrapeThatData"
   ]
  },
  {
   "cell_type": "code",
   "execution_count": 8,
   "metadata": {},
   "outputs": [
    {
     "name": "stdout",
     "output_type": "stream",
     "text": [
      "Getting data from page 1\n",
      "WARNING: Study number NCT00003682 doesn't have eligibility criteria or HTML tag format is not a list\n",
      "WARNING: Study number NCT00005075 doesn't have eligibility criteria or HTML tag format is not a list\n",
      "WARNING: Number of Participants in Study number NCT00005075 is unavailable\n"
     ]
    }
   ],
   "source": [
    "#Instanciate the ScrapeThatData class with a time threshold to wait for the pages to load\n",
    "cl = ScrapeThatData(time_threshold = 15)\n",
    "\n",
    "#the condition to search for\n",
    "condition ='prostate cancer'\n",
    "\n",
    "#attributes to show and collect from search page\n",
    "attributes = ['status',  'nct number', 'age']\n",
    "\n",
    "#status of clinical trials\n",
    "status = ['terminated']\n",
    "\n",
    "#call the main function with the corresponding parameters, the last one stands for the number of studies to collect\n",
    "results = cl(condition, attributes, status, 100)"
   ]
  },
  {
   "cell_type": "code",
   "execution_count": 3,
   "metadata": {},
   "outputs": [],
   "source": [
    "df = pd.DataFrame(results[1:], columns=results[0] )"
   ]
  },
  {
   "cell_type": "code",
   "execution_count": 4,
   "metadata": {},
   "outputs": [
    {
     "data": {
      "text/html": [
       "<div>\n",
       "<style scoped>\n",
       "    .dataframe tbody tr th:only-of-type {\n",
       "        vertical-align: middle;\n",
       "    }\n",
       "\n",
       "    .dataframe tbody tr th {\n",
       "        vertical-align: top;\n",
       "    }\n",
       "\n",
       "    .dataframe thead th {\n",
       "        text-align: right;\n",
       "    }\n",
       "</style>\n",
       "<table border=\"1\" class=\"dataframe\">\n",
       "  <thead>\n",
       "    <tr style=\"text-align: right;\">\n",
       "      <th></th>\n",
       "      <th>status</th>\n",
       "      <th>age</th>\n",
       "      <th>nct number</th>\n",
       "      <th>inclusion</th>\n",
       "      <th>exclusion</th>\n",
       "      <th>enrollment</th>\n",
       "    </tr>\n",
       "  </thead>\n",
       "  <tbody>\n",
       "    <tr>\n",
       "      <th>0</th>\n",
       "      <td>Terminated</td>\n",
       "      <td>40 Years and older   (Adult, Older Adult)</td>\n",
       "      <td>NCT03227744</td>\n",
       "      <td>Assessment of MAX-PC Scores [ Time Frame: Chan...</td>\n",
       "      <td>Assessment of anxiety scores as a function of ...</td>\n",
       "      <td>26</td>\n",
       "    </tr>\n",
       "    <tr>\n",
       "      <th>1</th>\n",
       "      <td>Terminated</td>\n",
       "      <td>18 Years and older   (Adult, Older Adult)</td>\n",
       "      <td>NCT02478125</td>\n",
       "      <td>Mobilization of DTCs from bone marrow [ Time F...</td>\n",
       "      <td>Kinetics of disseminated tumor cell mobilizati...</td>\n",
       "      <td>3</td>\n",
       "    </tr>\n",
       "    <tr>\n",
       "      <th>2</th>\n",
       "      <td>Terminated</td>\n",
       "      <td>18 Years to 95 Years   (Adult, Older Adult)</td>\n",
       "      <td>NCT01845792</td>\n",
       "      <td>Jevtana Zytiga</td>\n",
       "      <td>Progression-Free Survival [ Time Frame: 3 mont...</td>\n",
       "      <td>7</td>\n",
       "    </tr>\n",
       "    <tr>\n",
       "      <th>3</th>\n",
       "      <td>Terminated</td>\n",
       "      <td>18 Years and older   (Adult, Older Adult)</td>\n",
       "      <td>NCT01705652</td>\n",
       "      <td>PSA (Prostate Specific Antigen) [ Time Frame: ...</td>\n",
       "      <td>Have a histologic diagnosis of prostate cancer...</td>\n",
       "      <td>21</td>\n",
       "    </tr>\n",
       "    <tr>\n",
       "      <th>4</th>\n",
       "      <td>Terminated</td>\n",
       "      <td>18 Years and older   (Adult, Older Adult)</td>\n",
       "      <td>NCT01677845</td>\n",
       "      <td>the maximum tolerated dose of HRT [ Time Frame...</td>\n",
       "      <td>History/physical examination with digital rect...</td>\n",
       "      <td>9</td>\n",
       "    </tr>\n",
       "  </tbody>\n",
       "</table>\n",
       "</div>"
      ],
      "text/plain": [
       "       status                                          age   nct number  \\\n",
       "0  Terminated    40 Years and older   (Adult, Older Adult)  NCT03227744   \n",
       "1  Terminated    18 Years and older   (Adult, Older Adult)  NCT02478125   \n",
       "2  Terminated  18 Years to 95 Years   (Adult, Older Adult)  NCT01845792   \n",
       "3  Terminated    18 Years and older   (Adult, Older Adult)  NCT01705652   \n",
       "4  Terminated    18 Years and older   (Adult, Older Adult)  NCT01677845   \n",
       "\n",
       "                                           inclusion  \\\n",
       "0  Assessment of MAX-PC Scores [ Time Frame: Chan...   \n",
       "1  Mobilization of DTCs from bone marrow [ Time F...   \n",
       "2                                     Jevtana Zytiga   \n",
       "3  PSA (Prostate Specific Antigen) [ Time Frame: ...   \n",
       "4  the maximum tolerated dose of HRT [ Time Frame...   \n",
       "\n",
       "                                           exclusion enrollment  \n",
       "0  Assessment of anxiety scores as a function of ...         26  \n",
       "1  Kinetics of disseminated tumor cell mobilizati...          3  \n",
       "2  Progression-Free Survival [ Time Frame: 3 mont...          7  \n",
       "3  Have a histologic diagnosis of prostate cancer...         21  \n",
       "4  History/physical examination with digital rect...          9  "
      ]
     },
     "execution_count": 4,
     "metadata": {},
     "output_type": "execute_result"
    }
   ],
   "source": [
    "df.head()"
   ]
  },
  {
   "cell_type": "code",
   "execution_count": null,
   "metadata": {},
   "outputs": [],
   "source": []
  }
 ],
 "metadata": {
  "kernelspec": {
   "display_name": "Python [conda env:webscrapingpy3] *",
   "language": "python",
   "name": "conda-env-webscrapingpy3-py"
  },
  "language_info": {
   "codemirror_mode": {
    "name": "ipython",
    "version": 3
   },
   "file_extension": ".py",
   "mimetype": "text/x-python",
   "name": "python",
   "nbconvert_exporter": "python",
   "pygments_lexer": "ipython3",
   "version": "3.7.6"
  }
 },
 "nbformat": 4,
 "nbformat_minor": 2
}
